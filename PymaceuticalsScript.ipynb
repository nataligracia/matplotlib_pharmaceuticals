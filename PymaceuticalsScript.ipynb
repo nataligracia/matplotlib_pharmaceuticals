{
 "cells": [
  {
   "cell_type": "markdown",
   "metadata": {},
   "source": [
    "# Observations and Insights"
   ]
  },
  {
   "cell_type": "code",
   "execution_count": 286,
   "metadata": {},
   "outputs": [],
   "source": [
    "#import library dependencies and setup file\n",
    "import matplotlib.pyplot as plt\n",
    "import pandas as pd\n",
    "import scipy.stats as st\n",
    "import numpy as np\n",
    "import matplotlib.ticker as ticker\n",
    "import matplotlib.animation as animation\n",
    "from scipy.stats import linregress\n",
    "\n",
    "\n",
    "#research study files\n",
    "mouse_metadata = \"data/Mouse_metadata.csv\"\n",
    "study_results = \"data/Study_results.csv\"\n",
    "\n",
    "#read research data to analyze the study results\n",
    "mouse_data = pd.read_csv(mouse_metadata)\n",
    "results = pd.read_csv(study_results)\n",
    "\n",
    "#Combine the data tables into a single dataset\n",
    "pyarm_data = pd.merge(mouse_data, results, how=\"left\", on=[\"Mouse ID\",\"Mouse ID\"])"
   ]
  },
  {
   "cell_type": "code",
   "execution_count": 287,
   "metadata": {},
   "outputs": [],
   "source": [
    "#Calculate the number of mice in the DataFrame, which is 249\n",
    "mice = len(pyarm_data[\"Mouse ID\"].unique())"
   ]
  },
  {
   "cell_type": "code",
   "execution_count": 288,
   "metadata": {},
   "outputs": [],
   "source": [
    "#Calculate the duplicate mice by ID number that shows up for Mouse ID and Timepoint, which is 1893\n",
    "timepoints = pyarm_data[\"Mouse ID\"].count()"
   ]
  },
  {
   "cell_type": "code",
   "execution_count": 289,
   "metadata": {},
   "outputs": [],
   "source": [
    "#Find all the data for the duplicate mouse ID, which is \"g989\"\n",
    "duplicate = pyarm_data.loc[pyarm_data.duplicated(subset=['Mouse ID', 'Timepoint',]),'Mouse ID'].unique()"
   ]
  },
  {
   "cell_type": "code",
   "execution_count": 290,
   "metadata": {},
   "outputs": [],
   "source": [
    "#Build DataFrame by dropping the duplicate mouse by its ID\n",
    "study = pyarm_data[pyarm_data['Mouse ID'].isin(duplicate)==False]"
   ]
  },
  {
   "cell_type": "code",
   "execution_count": 291,
   "metadata": {},
   "outputs": [],
   "source": [
    "#Find the number of mice in the clean DataFrame, which is 1880\n",
    "micecount = study[\"Mouse ID\"].count()"
   ]
  },
  {
   "cell_type": "code",
   "execution_count": null,
   "metadata": {},
   "outputs": [],
   "source": []
  },
  {
   "cell_type": "markdown",
   "metadata": {},
   "source": [
    "## Summary Statistics"
   ]
  },
  {
   "cell_type": "code",
   "execution_count": 292,
   "metadata": {},
   "outputs": [
    {
     "data": {
      "text/html": [
       "<style  type=\"text/css\" >\n",
       "#T_1330d_row0_col0,#T_1330d_row0_col1,#T_1330d_row0_col2,#T_1330d_row0_col3,#T_1330d_row0_col4,#T_1330d_row1_col0,#T_1330d_row1_col1,#T_1330d_row1_col2,#T_1330d_row1_col3,#T_1330d_row1_col4,#T_1330d_row2_col0,#T_1330d_row2_col1,#T_1330d_row2_col2,#T_1330d_row2_col3,#T_1330d_row2_col4,#T_1330d_row3_col0,#T_1330d_row3_col1,#T_1330d_row3_col2,#T_1330d_row3_col3,#T_1330d_row3_col4,#T_1330d_row4_col0,#T_1330d_row4_col1,#T_1330d_row4_col2,#T_1330d_row4_col3,#T_1330d_row4_col4,#T_1330d_row5_col0,#T_1330d_row5_col1,#T_1330d_row5_col2,#T_1330d_row5_col3,#T_1330d_row5_col4,#T_1330d_row6_col0,#T_1330d_row6_col1,#T_1330d_row6_col2,#T_1330d_row6_col3,#T_1330d_row6_col4,#T_1330d_row7_col0,#T_1330d_row7_col1,#T_1330d_row7_col2,#T_1330d_row7_col3,#T_1330d_row7_col4,#T_1330d_row8_col0,#T_1330d_row8_col1,#T_1330d_row8_col2,#T_1330d_row8_col3,#T_1330d_row8_col4,#T_1330d_row9_col0,#T_1330d_row9_col1,#T_1330d_row9_col2,#T_1330d_row9_col3,#T_1330d_row9_col4{\n",
       "            text-align:  left;\n",
       "        }</style><table id=\"T_1330d_\" ><thead>    <tr>        <th class=\"blank level0\" ></th>        <th class=\"col_heading level0 col0\" >Mean</th>        <th class=\"col_heading level0 col1\" >Median</th>        <th class=\"col_heading level0 col2\" >Variance</th>        <th class=\"col_heading level0 col3\" >Standard Deviation</th>        <th class=\"col_heading level0 col4\" >SEM</th>    </tr>    <tr>        <th class=\"index_name level0\" >Drug Regimen</th>        <th class=\"blank\" ></th>        <th class=\"blank\" ></th>        <th class=\"blank\" ></th>        <th class=\"blank\" ></th>        <th class=\"blank\" ></th>    </tr></thead><tbody>\n",
       "                <tr>\n",
       "                        <th id=\"T_1330d_level0_row0\" class=\"row_heading level0 row0\" >Capomulin</th>\n",
       "                        <td id=\"T_1330d_row0_col0\" class=\"data row0 col0\" >40.675741</td>\n",
       "                        <td id=\"T_1330d_row0_col1\" class=\"data row0 col1\" >41.557809</td>\n",
       "                        <td id=\"T_1330d_row0_col2\" class=\"data row0 col2\" >24.947764</td>\n",
       "                        <td id=\"T_1330d_row0_col3\" class=\"data row0 col3\" >4.994774</td>\n",
       "                        <td id=\"T_1330d_row0_col4\" class=\"data row0 col4\" >0.329346</td>\n",
       "            </tr>\n",
       "            <tr>\n",
       "                        <th id=\"T_1330d_level0_row1\" class=\"row_heading level0 row1\" >Ceftamin</th>\n",
       "                        <td id=\"T_1330d_row1_col0\" class=\"data row1 col0\" >52.591172</td>\n",
       "                        <td id=\"T_1330d_row1_col1\" class=\"data row1 col1\" >51.776157</td>\n",
       "                        <td id=\"T_1330d_row1_col2\" class=\"data row1 col2\" >39.290177</td>\n",
       "                        <td id=\"T_1330d_row1_col3\" class=\"data row1 col3\" >6.268188</td>\n",
       "                        <td id=\"T_1330d_row1_col4\" class=\"data row1 col4\" >0.469821</td>\n",
       "            </tr>\n",
       "            <tr>\n",
       "                        <th id=\"T_1330d_level0_row2\" class=\"row_heading level0 row2\" >Infubinol</th>\n",
       "                        <td id=\"T_1330d_row2_col0\" class=\"data row2 col0\" >52.884795</td>\n",
       "                        <td id=\"T_1330d_row2_col1\" class=\"data row2 col1\" >51.820584</td>\n",
       "                        <td id=\"T_1330d_row2_col2\" class=\"data row2 col2\" >43.128684</td>\n",
       "                        <td id=\"T_1330d_row2_col3\" class=\"data row2 col3\" >6.567243</td>\n",
       "                        <td id=\"T_1330d_row2_col4\" class=\"data row2 col4\" >0.492236</td>\n",
       "            </tr>\n",
       "            <tr>\n",
       "                        <th id=\"T_1330d_level0_row3\" class=\"row_heading level0 row3\" >Ketapril</th>\n",
       "                        <td id=\"T_1330d_row3_col0\" class=\"data row3 col0\" >55.235638</td>\n",
       "                        <td id=\"T_1330d_row3_col1\" class=\"data row3 col1\" >53.698743</td>\n",
       "                        <td id=\"T_1330d_row3_col2\" class=\"data row3 col2\" >68.553577</td>\n",
       "                        <td id=\"T_1330d_row3_col3\" class=\"data row3 col3\" >8.279709</td>\n",
       "                        <td id=\"T_1330d_row3_col4\" class=\"data row3 col4\" >0.603860</td>\n",
       "            </tr>\n",
       "            <tr>\n",
       "                        <th id=\"T_1330d_level0_row4\" class=\"row_heading level0 row4\" >Naftisol</th>\n",
       "                        <td id=\"T_1330d_row4_col0\" class=\"data row4 col0\" >54.331565</td>\n",
       "                        <td id=\"T_1330d_row4_col1\" class=\"data row4 col1\" >52.509285</td>\n",
       "                        <td id=\"T_1330d_row4_col2\" class=\"data row4 col2\" >66.173479</td>\n",
       "                        <td id=\"T_1330d_row4_col3\" class=\"data row4 col3\" >8.134708</td>\n",
       "                        <td id=\"T_1330d_row4_col4\" class=\"data row4 col4\" >0.596466</td>\n",
       "            </tr>\n",
       "            <tr>\n",
       "                        <th id=\"T_1330d_level0_row5\" class=\"row_heading level0 row5\" >Placebo</th>\n",
       "                        <td id=\"T_1330d_row5_col0\" class=\"data row5 col0\" >54.033581</td>\n",
       "                        <td id=\"T_1330d_row5_col1\" class=\"data row5 col1\" >52.288934</td>\n",
       "                        <td id=\"T_1330d_row5_col2\" class=\"data row5 col2\" >61.168083</td>\n",
       "                        <td id=\"T_1330d_row5_col3\" class=\"data row5 col3\" >7.821003</td>\n",
       "                        <td id=\"T_1330d_row5_col4\" class=\"data row5 col4\" >0.581331</td>\n",
       "            </tr>\n",
       "            <tr>\n",
       "                        <th id=\"T_1330d_level0_row6\" class=\"row_heading level0 row6\" >Propriva</th>\n",
       "                        <td id=\"T_1330d_row6_col0\" class=\"data row6 col0\" >52.320930</td>\n",
       "                        <td id=\"T_1330d_row6_col1\" class=\"data row6 col1\" >50.446266</td>\n",
       "                        <td id=\"T_1330d_row6_col2\" class=\"data row6 col2\" >43.852013</td>\n",
       "                        <td id=\"T_1330d_row6_col3\" class=\"data row6 col3\" >6.622085</td>\n",
       "                        <td id=\"T_1330d_row6_col4\" class=\"data row6 col4\" >0.544332</td>\n",
       "            </tr>\n",
       "            <tr>\n",
       "                        <th id=\"T_1330d_level0_row7\" class=\"row_heading level0 row7\" >Ramicane</th>\n",
       "                        <td id=\"T_1330d_row7_col0\" class=\"data row7 col0\" >40.216745</td>\n",
       "                        <td id=\"T_1330d_row7_col1\" class=\"data row7 col1\" >40.673236</td>\n",
       "                        <td id=\"T_1330d_row7_col2\" class=\"data row7 col2\" >23.486704</td>\n",
       "                        <td id=\"T_1330d_row7_col3\" class=\"data row7 col3\" >4.846308</td>\n",
       "                        <td id=\"T_1330d_row7_col4\" class=\"data row7 col4\" >0.320955</td>\n",
       "            </tr>\n",
       "            <tr>\n",
       "                        <th id=\"T_1330d_level0_row8\" class=\"row_heading level0 row8\" >Stelasyn</th>\n",
       "                        <td id=\"T_1330d_row8_col0\" class=\"data row8 col0\" >54.233149</td>\n",
       "                        <td id=\"T_1330d_row8_col1\" class=\"data row8 col1\" >52.431737</td>\n",
       "                        <td id=\"T_1330d_row8_col2\" class=\"data row8 col2\" >59.450562</td>\n",
       "                        <td id=\"T_1330d_row8_col3\" class=\"data row8 col3\" >7.710419</td>\n",
       "                        <td id=\"T_1330d_row8_col4\" class=\"data row8 col4\" >0.573111</td>\n",
       "            </tr>\n",
       "            <tr>\n",
       "                        <th id=\"T_1330d_level0_row9\" class=\"row_heading level0 row9\" >Zoniferol</th>\n",
       "                        <td id=\"T_1330d_row9_col0\" class=\"data row9 col0\" >53.236507</td>\n",
       "                        <td id=\"T_1330d_row9_col1\" class=\"data row9 col1\" >51.818479</td>\n",
       "                        <td id=\"T_1330d_row9_col2\" class=\"data row9 col2\" >48.533355</td>\n",
       "                        <td id=\"T_1330d_row9_col3\" class=\"data row9 col3\" >6.966589</td>\n",
       "                        <td id=\"T_1330d_row9_col4\" class=\"data row9 col4\" >0.516398</td>\n",
       "            </tr>\n",
       "    </tbody></table>"
      ],
      "text/plain": [
       "<pandas.io.formats.style.Styler at 0x7fe9f5796f40>"
      ]
     },
     "execution_count": 292,
     "metadata": {},
     "output_type": "execute_result"
    }
   ],
   "source": [
    "#Calculalte and place mean, median, variance, standard deviation, and SEM of the tumor volume for each regimen\n",
    "study_summary = study.groupby('Drug Regimen').agg(Mean=('Tumor Volume (mm3)','mean'),\n",
    "                                                  Median=('Tumor Volume (mm3)','median'),\n",
    "                                                  Variance=('Tumor Volume (mm3)','var'),\n",
    "                                                  StandardDeviation=('Tumor Volume (mm3)','std'),\n",
    "                                                  SEM=('Tumor Volume (mm3)','sem'))\n",
    "\n",
    "#rename column and update format of summary statistics table\n",
    "study_summary.rename(columns={'StandardDeviation':'Standard Deviation'}).style.set_properties(**{'text-align':'left'})"
   ]
  },
  {
   "cell_type": "code",
   "execution_count": null,
   "metadata": {},
   "outputs": [],
   "source": []
  },
  {
   "cell_type": "markdown",
   "metadata": {},
   "source": [
    "## Bar Plots"
   ]
  },
  {
   "cell_type": "code",
   "execution_count": 293,
   "metadata": {},
   "outputs": [],
   "source": [
    "#Find data for bar plot on the number of mice per point for each treatment\n",
    "zero = study[study['Timepoint'] == 0].groupby('Drug Regimen').count()['Mouse ID']\n",
    "five = study[study['Timepoint'] == 5].groupby('Drug Regimen').count()['Mouse ID']\n",
    "ten = study[study['Timepoint'] == 10].groupby('Drug Regimen').count()['Mouse ID']\n",
    "fifteen = study[study['Timepoint'] == 15].groupby('Drug Regimen').count()['Mouse ID']\n",
    "twenty = study[study['Timepoint'] == 20].groupby('Drug Regimen').count()['Mouse ID']\n",
    "twentyfive = study[study['Timepoint'] == 25].groupby('Drug Regimen').count()['Mouse ID']\n",
    "thirty = study[study['Timepoint'] == 30].groupby('Drug Regimen').count()['Mouse ID']\n",
    "thirtyfive = study[study['Timepoint'] == 35].groupby('Drug Regimen').count()['Mouse ID']\n",
    "forty = study[study['Timepoint'] == 40].groupby('Drug Regimen').count()['Mouse ID']\n",
    "fortyfive = study[study['Timepoint'] == 45].groupby('Drug Regimen').count()['Mouse ID']\n",
    "timepoint_total = study.groupby('Drug Regimen').count()['Mouse ID']"
   ]
  },
  {
   "cell_type": "code",
   "execution_count": 294,
   "metadata": {},
   "outputs": [],
   "source": [
    "#Create dataframe of data\n",
    "bar = pd.DataFrame({\"0\":zero,\n",
    "                    \"5\":five,\n",
    "                    \"10\":ten,\n",
    "                    \"15\":fifteen,\n",
    "                    \"20\":twenty,\n",
    "                    \"25\":twentyfive,\n",
    "                    \"30\":thirty,\n",
    "                    \"35\":thirtyfive,\n",
    "                    \"40\":forty,\n",
    "                    \"45\":fortyfive,\n",
    "                    \"Total\":timepoint_total})"
   ]
  },
  {
   "cell_type": "code",
   "execution_count": 295,
   "metadata": {},
   "outputs": [
    {
     "data": {
      "text/html": [
       "<div>\n",
       "<style scoped>\n",
       "    .dataframe tbody tr th:only-of-type {\n",
       "        vertical-align: middle;\n",
       "    }\n",
       "\n",
       "    .dataframe tbody tr th {\n",
       "        vertical-align: top;\n",
       "    }\n",
       "\n",
       "    .dataframe thead th {\n",
       "        text-align: right;\n",
       "    }\n",
       "</style>\n",
       "<table border=\"1\" class=\"dataframe\">\n",
       "  <thead>\n",
       "    <tr style=\"text-align: right;\">\n",
       "      <th></th>\n",
       "      <th>0</th>\n",
       "      <th>5</th>\n",
       "      <th>10</th>\n",
       "      <th>15</th>\n",
       "      <th>20</th>\n",
       "      <th>25</th>\n",
       "      <th>30</th>\n",
       "      <th>35</th>\n",
       "      <th>40</th>\n",
       "      <th>45</th>\n",
       "      <th>Total</th>\n",
       "    </tr>\n",
       "    <tr>\n",
       "      <th>Drug Regimen</th>\n",
       "      <th></th>\n",
       "      <th></th>\n",
       "      <th></th>\n",
       "      <th></th>\n",
       "      <th></th>\n",
       "      <th></th>\n",
       "      <th></th>\n",
       "      <th></th>\n",
       "      <th></th>\n",
       "      <th></th>\n",
       "      <th></th>\n",
       "    </tr>\n",
       "  </thead>\n",
       "  <tbody>\n",
       "    <tr>\n",
       "      <th>Capomulin</th>\n",
       "      <td>25</td>\n",
       "      <td>25</td>\n",
       "      <td>25</td>\n",
       "      <td>24</td>\n",
       "      <td>23</td>\n",
       "      <td>22</td>\n",
       "      <td>22</td>\n",
       "      <td>22</td>\n",
       "      <td>21</td>\n",
       "      <td>21</td>\n",
       "      <td>230</td>\n",
       "    </tr>\n",
       "    <tr>\n",
       "      <th>Ceftamin</th>\n",
       "      <td>25</td>\n",
       "      <td>21</td>\n",
       "      <td>20</td>\n",
       "      <td>19</td>\n",
       "      <td>18</td>\n",
       "      <td>18</td>\n",
       "      <td>16</td>\n",
       "      <td>14</td>\n",
       "      <td>14</td>\n",
       "      <td>13</td>\n",
       "      <td>178</td>\n",
       "    </tr>\n",
       "    <tr>\n",
       "      <th>Infubinol</th>\n",
       "      <td>25</td>\n",
       "      <td>25</td>\n",
       "      <td>21</td>\n",
       "      <td>21</td>\n",
       "      <td>20</td>\n",
       "      <td>18</td>\n",
       "      <td>17</td>\n",
       "      <td>12</td>\n",
       "      <td>10</td>\n",
       "      <td>9</td>\n",
       "      <td>178</td>\n",
       "    </tr>\n",
       "    <tr>\n",
       "      <th>Ketapril</th>\n",
       "      <td>25</td>\n",
       "      <td>23</td>\n",
       "      <td>22</td>\n",
       "      <td>19</td>\n",
       "      <td>19</td>\n",
       "      <td>19</td>\n",
       "      <td>18</td>\n",
       "      <td>17</td>\n",
       "      <td>15</td>\n",
       "      <td>11</td>\n",
       "      <td>188</td>\n",
       "    </tr>\n",
       "    <tr>\n",
       "      <th>Naftisol</th>\n",
       "      <td>25</td>\n",
       "      <td>23</td>\n",
       "      <td>21</td>\n",
       "      <td>21</td>\n",
       "      <td>20</td>\n",
       "      <td>18</td>\n",
       "      <td>15</td>\n",
       "      <td>15</td>\n",
       "      <td>15</td>\n",
       "      <td>13</td>\n",
       "      <td>186</td>\n",
       "    </tr>\n",
       "    <tr>\n",
       "      <th>Placebo</th>\n",
       "      <td>25</td>\n",
       "      <td>24</td>\n",
       "      <td>24</td>\n",
       "      <td>20</td>\n",
       "      <td>19</td>\n",
       "      <td>17</td>\n",
       "      <td>15</td>\n",
       "      <td>14</td>\n",
       "      <td>12</td>\n",
       "      <td>11</td>\n",
       "      <td>181</td>\n",
       "    </tr>\n",
       "    <tr>\n",
       "      <th>Propriva</th>\n",
       "      <td>24</td>\n",
       "      <td>23</td>\n",
       "      <td>21</td>\n",
       "      <td>15</td>\n",
       "      <td>15</td>\n",
       "      <td>13</td>\n",
       "      <td>12</td>\n",
       "      <td>9</td>\n",
       "      <td>9</td>\n",
       "      <td>7</td>\n",
       "      <td>148</td>\n",
       "    </tr>\n",
       "    <tr>\n",
       "      <th>Ramicane</th>\n",
       "      <td>25</td>\n",
       "      <td>25</td>\n",
       "      <td>24</td>\n",
       "      <td>24</td>\n",
       "      <td>23</td>\n",
       "      <td>23</td>\n",
       "      <td>23</td>\n",
       "      <td>21</td>\n",
       "      <td>20</td>\n",
       "      <td>20</td>\n",
       "      <td>228</td>\n",
       "    </tr>\n",
       "    <tr>\n",
       "      <th>Stelasyn</th>\n",
       "      <td>24</td>\n",
       "      <td>23</td>\n",
       "      <td>21</td>\n",
       "      <td>21</td>\n",
       "      <td>19</td>\n",
       "      <td>18</td>\n",
       "      <td>17</td>\n",
       "      <td>15</td>\n",
       "      <td>12</td>\n",
       "      <td>11</td>\n",
       "      <td>181</td>\n",
       "    </tr>\n",
       "    <tr>\n",
       "      <th>Zoniferol</th>\n",
       "      <td>25</td>\n",
       "      <td>24</td>\n",
       "      <td>22</td>\n",
       "      <td>21</td>\n",
       "      <td>17</td>\n",
       "      <td>16</td>\n",
       "      <td>15</td>\n",
       "      <td>14</td>\n",
       "      <td>14</td>\n",
       "      <td>14</td>\n",
       "      <td>182</td>\n",
       "    </tr>\n",
       "  </tbody>\n",
       "</table>\n",
       "</div>"
      ],
      "text/plain": [
       "               0   5  10  15  20  25  30  35  40  45  Total\n",
       "Drug Regimen                                               \n",
       "Capomulin     25  25  25  24  23  22  22  22  21  21    230\n",
       "Ceftamin      25  21  20  19  18  18  16  14  14  13    178\n",
       "Infubinol     25  25  21  21  20  18  17  12  10   9    178\n",
       "Ketapril      25  23  22  19  19  19  18  17  15  11    188\n",
       "Naftisol      25  23  21  21  20  18  15  15  15  13    186\n",
       "Placebo       25  24  24  20  19  17  15  14  12  11    181\n",
       "Propriva      24  23  21  15  15  13  12   9   9   7    148\n",
       "Ramicane      25  25  24  24  23  23  23  21  20  20    228\n",
       "Stelasyn      24  23  21  21  19  18  17  15  12  11    181\n",
       "Zoniferol     25  24  22  21  17  16  15  14  14  14    182"
      ]
     },
     "execution_count": 295,
     "metadata": {},
     "output_type": "execute_result"
    }
   ],
   "source": [
    "bar"
   ]
  },
  {
   "cell_type": "code",
   "execution_count": 296,
   "metadata": {},
   "outputs": [],
   "source": [
    "#Timepoints per treatment drug regimen check\n",
    "plot = study.groupby([\"Drug Regimen\"]).count()[\"Mouse ID\"]"
   ]
  },
  {
   "cell_type": "code",
   "execution_count": 297,
   "metadata": {},
   "outputs": [],
   "source": [
    "#Drug regimen mice count by timepoint check\n",
    "counted = study.groupby([\"Drug Regimen\",\"Timepoint\"]).size()"
   ]
  },
  {
   "cell_type": "code",
   "execution_count": 298,
   "metadata": {},
   "outputs": [],
   "source": [
    "#Drug regimen mice count by timepoint check in dataframe\n",
    "time = study.groupby([\"Drug Regimen\",\"Timepoint\"])\n",
    "time_table = pd.DataFrame(time.size())"
   ]
  },
  {
   "cell_type": "code",
   "execution_count": 299,
   "metadata": {},
   "outputs": [
    {
     "data": {
      "image/png": "[encoded data removed]",
      "text/plain": [
       "<Figure size 1440x576 with 1 Axes>"
      ]
     },
     "metadata": {
      "needs_background": "light"
     },
     "output_type": "display_data"
    }
   ],
   "source": [
    "#Remove Total column\n",
    "del bar['Total']\n",
    "\n",
    "#Create Pandas Bar Plot on the number of mice per timepoint for each drug regimen treatment\n",
    "ax = bar.plot.bar(rot=0,figsize=(20,8))\n",
    "plt.title(\"Pyma Study: Mice per Treatment at each Timepoint\")\n",
    "plt.ylabel(\"Alive Mice\")\n",
    "plt.legend(title=\"Timepoints\",loc='center left',bbox_to_anchor=(1.0,0.5))\n",
    "\n",
    "#Save Pandas Bar Plot\n",
    "plt.tight_layout()\n",
    "plt.savefig(\"Images/pandas_bar_plot.png\")\n",
    "plt.show()"
   ]
  },
  {
   "cell_type": "code",
   "execution_count": null,
   "metadata": {},
   "outputs": [],
   "source": []
  },
  {
   "cell_type": "code",
   "execution_count": 300,
   "metadata": {},
   "outputs": [
    {
     "data": {
      "image/png": "[encoded data removed]",
      "text/plain": [
       "<Figure size 1440x576 with 1 Axes>"
      ]
     },
     "metadata": {
      "needs_background": "light"
     },
     "output_type": "display_data"
    }
   ],
   "source": [
    "#Create Pyplot Bar Plot on the number of mice per timepoint for each drug regimen treatment\n",
    "fig, ax = plt.subplots(figsize=(20,8))\n",
    "xaxis = np.arange(len(bar))\n",
    "barwidth = 0.08\n",
    "\n",
    "for i, col in enumerate(bar.columns):\n",
    "    plt.bar(xaxis+(-0.5+i*barwidth),bar[col],width=barwidth,label=col)\n",
    "\n",
    "#Rename x axis data to drug regimen treatments\n",
    "treatments = [value for value in xaxis]\n",
    "plt.xticks(treatments, ['Capomulin', 'Ceftamin', 'Infubinol', 'Ketapril', 'Naftisol', 'Placebo', 'Propriva', 'Ramicane', 'Stelasyn', 'Zoniferol'])\n",
    "\n",
    "#Format Pyplot Bar Plot\n",
    "plt.title(\"Pyma Study: Mice per Treatment at each Timepoint\")\n",
    "plt.ylabel(\"Alive Mice\")\n",
    "plt.xlabel(\"Drug Regimen\")\n",
    "plt.legend(title=\"Timepoints\",loc='center left',bbox_to_anchor=(1.0,0.5))\n",
    "plt.show()"
   ]
  },
  {
   "cell_type": "code",
   "execution_count": null,
   "metadata": {},
   "outputs": [],
   "source": []
  },
  {
   "cell_type": "markdown",
   "metadata": {},
   "source": [
    "## Pie Plots"
   ]
  },
  {
   "cell_type": "code",
   "execution_count": 307,
   "metadata": {},
   "outputs": [],
   "source": [
    "#Calculate number of unique mice, which is 248\n",
    "uniquemice = study[\"Mouse ID\"].nunique()"
   ]
  },
  {
   "cell_type": "code",
   "execution_count": 308,
   "metadata": {},
   "outputs": [],
   "source": [
    "#Pull mice and sex data for pie plots\n",
    "sex = study.groupby([\"Mouse ID\",\"Sex\"])\n",
    "sex_table = pd.DataFrame(sex.size())"
   ]
  },
  {
   "cell_type": "code",
   "execution_count": 309,
   "metadata": {},
   "outputs": [],
   "source": [
    "#Calculate unique mice's sex\n",
    "study_gender = pd.DataFrame(sex_table.groupby([\"Sex\"]).count())\n",
    "study_gender.columns = [\"Mice Count\"]\n",
    "\n",
    "#Calculate and place unique mice's sex percentage\n",
    "study_gender[\"Percentage\"] = ((study_gender[\"Mice Count\"]/uniquemice)*100) \n",
    "study_gender[\"Percentage\"] = study_gender[\"Percentage\"]"
   ]
  },
  {
   "cell_type": "code",
   "execution_count": 310,
   "metadata": {},
   "outputs": [
    {
     "data": {
      "text/html": [
       "<div>\n",
       "<style scoped>\n",
       "    .dataframe tbody tr th:only-of-type {\n",
       "        vertical-align: middle;\n",
       "    }\n",
       "\n",
       "    .dataframe tbody tr th {\n",
       "        vertical-align: top;\n",
       "    }\n",
       "\n",
       "    .dataframe thead th {\n",
       "        text-align: right;\n",
       "    }\n",
       "</style>\n",
       "<table border=\"1\" class=\"dataframe\">\n",
       "  <thead>\n",
       "    <tr style=\"text-align: right;\">\n",
       "      <th></th>\n",
       "      <th>Mice Count</th>\n",
       "      <th>Percentage</th>\n",
       "    </tr>\n",
       "    <tr>\n",
       "      <th>Sex</th>\n",
       "      <th></th>\n",
       "      <th></th>\n",
       "    </tr>\n",
       "  </thead>\n",
       "  <tbody>\n",
       "    <tr>\n",
       "      <th>Female</th>\n",
       "      <td>123</td>\n",
       "      <td>49.596774</td>\n",
       "    </tr>\n",
       "    <tr>\n",
       "      <th>Male</th>\n",
       "      <td>125</td>\n",
       "      <td>50.403226</td>\n",
       "    </tr>\n",
       "  </tbody>\n",
       "</table>\n",
       "</div>"
      ],
      "text/plain": [
       "        Mice Count  Percentage\n",
       "Sex                           \n",
       "Female         123   49.596774\n",
       "Male           125   50.403226"
      ]
     },
     "execution_count": 310,
     "metadata": {},
     "output_type": "execute_result"
    }
   ],
   "source": [
    "study_gender"
   ]
  },
  {
   "cell_type": "code",
   "execution_count": 323,
   "metadata": {},
   "outputs": [
    {
     "data": {
      "image/png": "[encoded data removed]",
      "text/plain": [
       "<Figure size 1008x504 with 1 Axes>"
      ]
     },
     "metadata": {},
     "output_type": "display_data"
    }
   ],
   "source": [
    "#Create and format a pie plot of study gender data using pandas\n",
    "colors = ['yellow','orange']\n",
    "explode = (0.1,0)\n",
    "pieplot = study_gender.plot.pie(y='Mice Count',\n",
    "                                figsize=(14,7),colors = colors,startangle=45,\n",
    "                                explode = explode, shadow=True, autopct=\"%1.1f%%\")\n",
    "plt.title('Pyma Study Mice: Sex',fontsize = 20)\n",
    "plt.ylabel('',fontsize = 16)\n",
    "plt.legend(title=\"Sex\")\n",
    "\n",
    "#Save Pandas Pie Plot\n",
    "plt.tight_layout()\n",
    "plt.savefig(\"Images/pandas_pie_plot.png\")\n",
    "plt.show()"
   ]
  },
  {
   "cell_type": "code",
   "execution_count": 324,
   "metadata": {},
   "outputs": [
    {
     "data": {
      "image/png": "[encoded data removed]",
      "text/plain": [
       "<Figure size 1008x504 with 1 Axes>"
      ]
     },
     "metadata": {},
     "output_type": "display_data"
    }
   ],
   "source": [
    "#Create and format a pie plot of study gender data using pyplot\n",
    "labels = [\"Female\",\"Male\"]\n",
    "fig, ax = plt.subplots(figsize=(14,7))\n",
    "ax.pie(study_gender[\"Percentage\"],labels=labels, colors=colors, shadow=True, explode=explode, startangle=45, autopct='%1.1f%%')\n",
    "plt.title('Pyma Study Mice: Sex',fontsize = 20)\n",
    "plt.ylabel('',fontsize = 16)\n",
    "plt.legend(title=\"Sex\")\n",
    "\n",
    "\n",
    "#Save Pandas Pie Plot\n",
    "plt.tight_layout()\n",
    "plt.savefig(\"Images/pandas_pie_plot.png\")\n",
    "plt.show()"
   ]
  },
  {
   "cell_type": "code",
   "execution_count": null,
   "metadata": {},
   "outputs": [],
   "source": []
  },
  {
   "cell_type": "markdown",
   "metadata": {},
   "source": [
    "## Quartiles, Outliers and Boxplots"
   ]
  },
  {
   "cell_type": "code",
   "execution_count": null,
   "metadata": {},
   "outputs": [],
   "source": [
    "# Calculate the final tumor volume of each mouse across four of the most promising treatment regimens. \n",
    "#Calculate the IQR and quantitatively determine if there are any potential outliers. "
   ]
  },
  {
   "cell_type": "code",
   "execution_count": null,
   "metadata": {},
   "outputs": [],
   "source": []
  },
  {
   "cell_type": "code",
   "execution_count": null,
   "metadata": {},
   "outputs": [],
   "source": [
    "\n",
    "\n",
    "# Generate a box plot of the final tumor volume of each mouse across four regimens of interest"
   ]
  },
  {
   "cell_type": "code",
   "execution_count": null,
   "metadata": {},
   "outputs": [],
   "source": []
  },
  {
   "cell_type": "markdown",
   "metadata": {},
   "source": [
    "## Line and Scatter Plots"
   ]
  },
  {
   "cell_type": "code",
   "execution_count": null,
   "metadata": {},
   "outputs": [],
   "source": [
    "\n",
    "\n",
    "# Generate a line plot of time point versus tumor volume for a mouse treated with Capomulin\n"
   ]
  },
  {
   "cell_type": "code",
   "execution_count": null,
   "metadata": {},
   "outputs": [],
   "source": [
    "\n",
    "# Generate a scatter plot of mouse weight versus average tumor volume for the Capomulin regimen\n",
    "\n"
   ]
  },
  {
   "cell_type": "code",
   "execution_count": null,
   "metadata": {},
   "outputs": [],
   "source": []
  },
  {
   "cell_type": "markdown",
   "metadata": {},
   "source": [
    "## Correlation and Regression"
   ]
  },
  {
   "cell_type": "code",
   "execution_count": null,
   "metadata": {},
   "outputs": [],
   "source": [
    "\n",
    "# Calculate the correlation coefficient and linear regression model \n",
    "# for mouse weight and average tumor volume for the Capomulin regimen\n",
    "\n"
   ]
  },
  {
   "cell_type": "code",
   "execution_count": null,
   "metadata": {},
   "outputs": [],
   "source": []
  }
 ],
 "metadata": {
  "kernelspec": {
   "display_name": "Python 3",
   "language": "python",
   "name": "python3"
  },
  "language_info": {
   "codemirror_mode": {
    "name": "ipython",
    "version": 3
   },
   "file_extension": ".py",
   "mimetype": "text/x-python",
   "name": "python",
   "nbconvert_exporter": "python",
   "pygments_lexer": "ipython3",
   "version": "3.8.5"
  }
 },
 "nbformat": 4,
 "nbformat_minor": 4
}
