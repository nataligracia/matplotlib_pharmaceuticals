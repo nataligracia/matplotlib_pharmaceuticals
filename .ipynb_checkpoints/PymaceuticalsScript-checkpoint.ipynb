{
 "cells": [
  {
   "cell_type": "markdown",
   "metadata": {},
   "source": [
    "# Observations and Insights"
   ]
  },
  {
   "cell_type": "code",
   "execution_count": 26,
   "metadata": {},
   "outputs": [],
   "source": [
    "#import library dependencies and setup file\n",
    "import matplotlib.pyplot as plt\n",
    "import pandas as pd\n",
    "import scipy.stats as st\n",
    "\n",
    "#research study files\n",
    "mouse_metadata = \"data/Mouse_metadata.csv\"\n",
    "study_results = \"data/Study_results.csv\"\n",
    "\n",
    "#read research data to analyze the study results\n",
    "mouse_data = pd.read_csv(mouse_metadata)\n",
    "results = pd.read_csv(study_results)\n",
    "\n",
    "#Combine the data tables into a single dataset\n",
    "pyarm_data = pd.merge(mouse_data, results, how=\"left\", on=[\"Mouse ID\",\"Mouse ID\"])"
   ]
  },
  {
   "cell_type": "code",
   "execution_count": 27,
   "metadata": {},
   "outputs": [
    {
     "data": {
      "text/html": [
       "<div>\n",
       "<style scoped>\n",
       "    .dataframe tbody tr th:only-of-type {\n",
       "        vertical-align: middle;\n",
       "    }\n",
       "\n",
       "    .dataframe tbody tr th {\n",
       "        vertical-align: top;\n",
       "    }\n",
       "\n",
       "    .dataframe thead th {\n",
       "        text-align: right;\n",
       "    }\n",
       "</style>\n",
       "<table border=\"1\" class=\"dataframe\">\n",
       "  <thead>\n",
       "    <tr style=\"text-align: right;\">\n",
       "      <th></th>\n",
       "      <th>Mouse ID</th>\n",
       "      <th>Drug Regimen</th>\n",
       "      <th>Sex</th>\n",
       "      <th>Age_months</th>\n",
       "      <th>Weight (g)</th>\n",
       "      <th>Timepoint</th>\n",
       "      <th>Tumor Volume (mm3)</th>\n",
       "      <th>Metastatic Sites</th>\n",
       "    </tr>\n",
       "  </thead>\n",
       "  <tbody>\n",
       "    <tr>\n",
       "      <th>0</th>\n",
       "      <td>k403</td>\n",
       "      <td>Ramicane</td>\n",
       "      <td>Male</td>\n",
       "      <td>21</td>\n",
       "      <td>16</td>\n",
       "      <td>0</td>\n",
       "      <td>45.000000</td>\n",
       "      <td>0</td>\n",
       "    </tr>\n",
       "    <tr>\n",
       "      <th>1</th>\n",
       "      <td>k403</td>\n",
       "      <td>Ramicane</td>\n",
       "      <td>Male</td>\n",
       "      <td>21</td>\n",
       "      <td>16</td>\n",
       "      <td>5</td>\n",
       "      <td>38.825898</td>\n",
       "      <td>0</td>\n",
       "    </tr>\n",
       "    <tr>\n",
       "      <th>2</th>\n",
       "      <td>k403</td>\n",
       "      <td>Ramicane</td>\n",
       "      <td>Male</td>\n",
       "      <td>21</td>\n",
       "      <td>16</td>\n",
       "      <td>10</td>\n",
       "      <td>35.014271</td>\n",
       "      <td>1</td>\n",
       "    </tr>\n",
       "    <tr>\n",
       "      <th>3</th>\n",
       "      <td>k403</td>\n",
       "      <td>Ramicane</td>\n",
       "      <td>Male</td>\n",
       "      <td>21</td>\n",
       "      <td>16</td>\n",
       "      <td>15</td>\n",
       "      <td>34.223992</td>\n",
       "      <td>1</td>\n",
       "    </tr>\n",
       "    <tr>\n",
       "      <th>4</th>\n",
       "      <td>k403</td>\n",
       "      <td>Ramicane</td>\n",
       "      <td>Male</td>\n",
       "      <td>21</td>\n",
       "      <td>16</td>\n",
       "      <td>20</td>\n",
       "      <td>32.997729</td>\n",
       "      <td>1</td>\n",
       "    </tr>\n",
       "    <tr>\n",
       "      <th>...</th>\n",
       "      <td>...</td>\n",
       "      <td>...</td>\n",
       "      <td>...</td>\n",
       "      <td>...</td>\n",
       "      <td>...</td>\n",
       "      <td>...</td>\n",
       "      <td>...</td>\n",
       "      <td>...</td>\n",
       "    </tr>\n",
       "    <tr>\n",
       "      <th>1888</th>\n",
       "      <td>z969</td>\n",
       "      <td>Naftisol</td>\n",
       "      <td>Male</td>\n",
       "      <td>9</td>\n",
       "      <td>30</td>\n",
       "      <td>25</td>\n",
       "      <td>63.145652</td>\n",
       "      <td>2</td>\n",
       "    </tr>\n",
       "    <tr>\n",
       "      <th>1889</th>\n",
       "      <td>z969</td>\n",
       "      <td>Naftisol</td>\n",
       "      <td>Male</td>\n",
       "      <td>9</td>\n",
       "      <td>30</td>\n",
       "      <td>30</td>\n",
       "      <td>65.841013</td>\n",
       "      <td>3</td>\n",
       "    </tr>\n",
       "    <tr>\n",
       "      <th>1890</th>\n",
       "      <td>z969</td>\n",
       "      <td>Naftisol</td>\n",
       "      <td>Male</td>\n",
       "      <td>9</td>\n",
       "      <td>30</td>\n",
       "      <td>35</td>\n",
       "      <td>69.176246</td>\n",
       "      <td>4</td>\n",
       "    </tr>\n",
       "    <tr>\n",
       "      <th>1891</th>\n",
       "      <td>z969</td>\n",
       "      <td>Naftisol</td>\n",
       "      <td>Male</td>\n",
       "      <td>9</td>\n",
       "      <td>30</td>\n",
       "      <td>40</td>\n",
       "      <td>70.314904</td>\n",
       "      <td>4</td>\n",
       "    </tr>\n",
       "    <tr>\n",
       "      <th>1892</th>\n",
       "      <td>z969</td>\n",
       "      <td>Naftisol</td>\n",
       "      <td>Male</td>\n",
       "      <td>9</td>\n",
       "      <td>30</td>\n",
       "      <td>45</td>\n",
       "      <td>73.867845</td>\n",
       "      <td>4</td>\n",
       "    </tr>\n",
       "  </tbody>\n",
       "</table>\n",
       "<p>1893 rows × 8 columns</p>\n",
       "</div>"
      ],
      "text/plain": [
       "     Mouse ID Drug Regimen   Sex  Age_months  Weight (g)  Timepoint  \\\n",
       "0        k403     Ramicane  Male          21          16          0   \n",
       "1        k403     Ramicane  Male          21          16          5   \n",
       "2        k403     Ramicane  Male          21          16         10   \n",
       "3        k403     Ramicane  Male          21          16         15   \n",
       "4        k403     Ramicane  Male          21          16         20   \n",
       "...       ...          ...   ...         ...         ...        ...   \n",
       "1888     z969     Naftisol  Male           9          30         25   \n",
       "1889     z969     Naftisol  Male           9          30         30   \n",
       "1890     z969     Naftisol  Male           9          30         35   \n",
       "1891     z969     Naftisol  Male           9          30         40   \n",
       "1892     z969     Naftisol  Male           9          30         45   \n",
       "\n",
       "      Tumor Volume (mm3)  Metastatic Sites  \n",
       "0              45.000000                 0  \n",
       "1              38.825898                 0  \n",
       "2              35.014271                 1  \n",
       "3              34.223992                 1  \n",
       "4              32.997729                 1  \n",
       "...                  ...               ...  \n",
       "1888           63.145652                 2  \n",
       "1889           65.841013                 3  \n",
       "1890           69.176246                 4  \n",
       "1891           70.314904                 4  \n",
       "1892           73.867845                 4  \n",
       "\n",
       "[1893 rows x 8 columns]"
      ]
     },
     "execution_count": 27,
     "metadata": {},
     "output_type": "execute_result"
    }
   ],
   "source": [
    "pyarm_data"
   ]
  },
  {
   "cell_type": "code",
   "execution_count": 28,
   "metadata": {},
   "outputs": [],
   "source": [
    "#Calculate the number of mice in the DataFrame\n",
    "mice = len(pyarm_data[\"Mouse ID\"].unique())"
   ]
  },
  {
   "cell_type": "code",
   "execution_count": 29,
   "metadata": {},
   "outputs": [
    {
     "data": {
      "text/plain": [
       "249"
      ]
     },
     "execution_count": 29,
     "metadata": {},
     "output_type": "execute_result"
    }
   ],
   "source": [
    "mice"
   ]
  },
  {
   "cell_type": "code",
   "execution_count": 30,
   "metadata": {},
   "outputs": [],
   "source": [
    "#Calculate the duplicate mice by ID number that shows up for Mouse ID and Timepoint\n",
    "timepoints = pyarm_data[\"Mouse ID\"].count()"
   ]
  },
  {
   "cell_type": "code",
   "execution_count": 31,
   "metadata": {},
   "outputs": [
    {
     "data": {
      "text/plain": [
       "1893"
      ]
     },
     "execution_count": 31,
     "metadata": {},
     "output_type": "execute_result"
    }
   ],
   "source": [
    "timepoints"
   ]
  },
  {
   "cell_type": "code",
   "execution_count": 32,
   "metadata": {},
   "outputs": [],
   "source": [
    "#Find all the data for the duplicate mouse ID\n",
    "duplicate = pyarm_data.loc[pyarm_data.duplicated(subset=['Mouse ID', 'Timepoint',]),'Mouse ID'].unique()"
   ]
  },
  {
   "cell_type": "code",
   "execution_count": 33,
   "metadata": {},
   "outputs": [
    {
     "data": {
      "text/plain": [
       "array(['g989'], dtype=object)"
      ]
     },
     "execution_count": 33,
     "metadata": {},
     "output_type": "execute_result"
    }
   ],
   "source": [
    "duplicate"
   ]
  },
  {
   "cell_type": "code",
   "execution_count": 34,
   "metadata": {},
   "outputs": [],
   "source": [
    "#Build DataFrame by dropping the duplicate mouse by its ID\n",
    "study = pyarm_data[pyarm_data['Mouse ID'].isin(duplicate)==False]"
   ]
  },
  {
   "cell_type": "code",
   "execution_count": 35,
   "metadata": {},
   "outputs": [
    {
     "data": {
      "text/html": [
       "<div>\n",
       "<style scoped>\n",
       "    .dataframe tbody tr th:only-of-type {\n",
       "        vertical-align: middle;\n",
       "    }\n",
       "\n",
       "    .dataframe tbody tr th {\n",
       "        vertical-align: top;\n",
       "    }\n",
       "\n",
       "    .dataframe thead th {\n",
       "        text-align: right;\n",
       "    }\n",
       "</style>\n",
       "<table border=\"1\" class=\"dataframe\">\n",
       "  <thead>\n",
       "    <tr style=\"text-align: right;\">\n",
       "      <th></th>\n",
       "      <th>Mouse ID</th>\n",
       "      <th>Drug Regimen</th>\n",
       "      <th>Sex</th>\n",
       "      <th>Age_months</th>\n",
       "      <th>Weight (g)</th>\n",
       "      <th>Timepoint</th>\n",
       "      <th>Tumor Volume (mm3)</th>\n",
       "      <th>Metastatic Sites</th>\n",
       "    </tr>\n",
       "  </thead>\n",
       "  <tbody>\n",
       "    <tr>\n",
       "      <th>0</th>\n",
       "      <td>k403</td>\n",
       "      <td>Ramicane</td>\n",
       "      <td>Male</td>\n",
       "      <td>21</td>\n",
       "      <td>16</td>\n",
       "      <td>0</td>\n",
       "      <td>45.000000</td>\n",
       "      <td>0</td>\n",
       "    </tr>\n",
       "    <tr>\n",
       "      <th>1</th>\n",
       "      <td>k403</td>\n",
       "      <td>Ramicane</td>\n",
       "      <td>Male</td>\n",
       "      <td>21</td>\n",
       "      <td>16</td>\n",
       "      <td>5</td>\n",
       "      <td>38.825898</td>\n",
       "      <td>0</td>\n",
       "    </tr>\n",
       "    <tr>\n",
       "      <th>2</th>\n",
       "      <td>k403</td>\n",
       "      <td>Ramicane</td>\n",
       "      <td>Male</td>\n",
       "      <td>21</td>\n",
       "      <td>16</td>\n",
       "      <td>10</td>\n",
       "      <td>35.014271</td>\n",
       "      <td>1</td>\n",
       "    </tr>\n",
       "    <tr>\n",
       "      <th>3</th>\n",
       "      <td>k403</td>\n",
       "      <td>Ramicane</td>\n",
       "      <td>Male</td>\n",
       "      <td>21</td>\n",
       "      <td>16</td>\n",
       "      <td>15</td>\n",
       "      <td>34.223992</td>\n",
       "      <td>1</td>\n",
       "    </tr>\n",
       "    <tr>\n",
       "      <th>4</th>\n",
       "      <td>k403</td>\n",
       "      <td>Ramicane</td>\n",
       "      <td>Male</td>\n",
       "      <td>21</td>\n",
       "      <td>16</td>\n",
       "      <td>20</td>\n",
       "      <td>32.997729</td>\n",
       "      <td>1</td>\n",
       "    </tr>\n",
       "    <tr>\n",
       "      <th>...</th>\n",
       "      <td>...</td>\n",
       "      <td>...</td>\n",
       "      <td>...</td>\n",
       "      <td>...</td>\n",
       "      <td>...</td>\n",
       "      <td>...</td>\n",
       "      <td>...</td>\n",
       "      <td>...</td>\n",
       "    </tr>\n",
       "    <tr>\n",
       "      <th>1888</th>\n",
       "      <td>z969</td>\n",
       "      <td>Naftisol</td>\n",
       "      <td>Male</td>\n",
       "      <td>9</td>\n",
       "      <td>30</td>\n",
       "      <td>25</td>\n",
       "      <td>63.145652</td>\n",
       "      <td>2</td>\n",
       "    </tr>\n",
       "    <tr>\n",
       "      <th>1889</th>\n",
       "      <td>z969</td>\n",
       "      <td>Naftisol</td>\n",
       "      <td>Male</td>\n",
       "      <td>9</td>\n",
       "      <td>30</td>\n",
       "      <td>30</td>\n",
       "      <td>65.841013</td>\n",
       "      <td>3</td>\n",
       "    </tr>\n",
       "    <tr>\n",
       "      <th>1890</th>\n",
       "      <td>z969</td>\n",
       "      <td>Naftisol</td>\n",
       "      <td>Male</td>\n",
       "      <td>9</td>\n",
       "      <td>30</td>\n",
       "      <td>35</td>\n",
       "      <td>69.176246</td>\n",
       "      <td>4</td>\n",
       "    </tr>\n",
       "    <tr>\n",
       "      <th>1891</th>\n",
       "      <td>z969</td>\n",
       "      <td>Naftisol</td>\n",
       "      <td>Male</td>\n",
       "      <td>9</td>\n",
       "      <td>30</td>\n",
       "      <td>40</td>\n",
       "      <td>70.314904</td>\n",
       "      <td>4</td>\n",
       "    </tr>\n",
       "    <tr>\n",
       "      <th>1892</th>\n",
       "      <td>z969</td>\n",
       "      <td>Naftisol</td>\n",
       "      <td>Male</td>\n",
       "      <td>9</td>\n",
       "      <td>30</td>\n",
       "      <td>45</td>\n",
       "      <td>73.867845</td>\n",
       "      <td>4</td>\n",
       "    </tr>\n",
       "  </tbody>\n",
       "</table>\n",
       "<p>1880 rows × 8 columns</p>\n",
       "</div>"
      ],
      "text/plain": [
       "     Mouse ID Drug Regimen   Sex  Age_months  Weight (g)  Timepoint  \\\n",
       "0        k403     Ramicane  Male          21          16          0   \n",
       "1        k403     Ramicane  Male          21          16          5   \n",
       "2        k403     Ramicane  Male          21          16         10   \n",
       "3        k403     Ramicane  Male          21          16         15   \n",
       "4        k403     Ramicane  Male          21          16         20   \n",
       "...       ...          ...   ...         ...         ...        ...   \n",
       "1888     z969     Naftisol  Male           9          30         25   \n",
       "1889     z969     Naftisol  Male           9          30         30   \n",
       "1890     z969     Naftisol  Male           9          30         35   \n",
       "1891     z969     Naftisol  Male           9          30         40   \n",
       "1892     z969     Naftisol  Male           9          30         45   \n",
       "\n",
       "      Tumor Volume (mm3)  Metastatic Sites  \n",
       "0              45.000000                 0  \n",
       "1              38.825898                 0  \n",
       "2              35.014271                 1  \n",
       "3              34.223992                 1  \n",
       "4              32.997729                 1  \n",
       "...                  ...               ...  \n",
       "1888           63.145652                 2  \n",
       "1889           65.841013                 3  \n",
       "1890           69.176246                 4  \n",
       "1891           70.314904                 4  \n",
       "1892           73.867845                 4  \n",
       "\n",
       "[1880 rows x 8 columns]"
      ]
     },
     "execution_count": 35,
     "metadata": {},
     "output_type": "execute_result"
    }
   ],
   "source": [
    "study"
   ]
  },
  {
   "cell_type": "code",
   "execution_count": 39,
   "metadata": {},
   "outputs": [],
   "source": [
    "#Find the number of mice in the clean DataFrame\n",
    "micecount = study[\"Mouse ID\"].count()"
   ]
  },
  {
   "cell_type": "code",
   "execution_count": 37,
   "metadata": {},
   "outputs": [
    {
     "data": {
      "text/plain": [
       "1880"
      ]
     },
     "execution_count": 37,
     "metadata": {},
     "output_type": "execute_result"
    }
   ],
   "source": [
    "micecount"
   ]
  },
  {
   "cell_type": "code",
   "execution_count": null,
   "metadata": {},
   "outputs": [],
   "source": []
  },
  {
   "cell_type": "markdown",
   "metadata": {},
   "source": [
    "## Summary Statistics"
   ]
  },
  {
   "cell_type": "code",
   "execution_count": 68,
   "metadata": {},
   "outputs": [
    {
     "data": {
      "text/html": [
       "<style  type=\"text/css\" >\n",
       "#T_6b42b2ac_6078_11eb_9172_acde48001122row0_col0,#T_6b42b2ac_6078_11eb_9172_acde48001122row0_col1,#T_6b42b2ac_6078_11eb_9172_acde48001122row0_col2,#T_6b42b2ac_6078_11eb_9172_acde48001122row0_col3,#T_6b42b2ac_6078_11eb_9172_acde48001122row0_col4,#T_6b42b2ac_6078_11eb_9172_acde48001122row1_col0,#T_6b42b2ac_6078_11eb_9172_acde48001122row1_col1,#T_6b42b2ac_6078_11eb_9172_acde48001122row1_col2,#T_6b42b2ac_6078_11eb_9172_acde48001122row1_col3,#T_6b42b2ac_6078_11eb_9172_acde48001122row1_col4,#T_6b42b2ac_6078_11eb_9172_acde48001122row2_col0,#T_6b42b2ac_6078_11eb_9172_acde48001122row2_col1,#T_6b42b2ac_6078_11eb_9172_acde48001122row2_col2,#T_6b42b2ac_6078_11eb_9172_acde48001122row2_col3,#T_6b42b2ac_6078_11eb_9172_acde48001122row2_col4,#T_6b42b2ac_6078_11eb_9172_acde48001122row3_col0,#T_6b42b2ac_6078_11eb_9172_acde48001122row3_col1,#T_6b42b2ac_6078_11eb_9172_acde48001122row3_col2,#T_6b42b2ac_6078_11eb_9172_acde48001122row3_col3,#T_6b42b2ac_6078_11eb_9172_acde48001122row3_col4,#T_6b42b2ac_6078_11eb_9172_acde48001122row4_col0,#T_6b42b2ac_6078_11eb_9172_acde48001122row4_col1,#T_6b42b2ac_6078_11eb_9172_acde48001122row4_col2,#T_6b42b2ac_6078_11eb_9172_acde48001122row4_col3,#T_6b42b2ac_6078_11eb_9172_acde48001122row4_col4,#T_6b42b2ac_6078_11eb_9172_acde48001122row5_col0,#T_6b42b2ac_6078_11eb_9172_acde48001122row5_col1,#T_6b42b2ac_6078_11eb_9172_acde48001122row5_col2,#T_6b42b2ac_6078_11eb_9172_acde48001122row5_col3,#T_6b42b2ac_6078_11eb_9172_acde48001122row5_col4,#T_6b42b2ac_6078_11eb_9172_acde48001122row6_col0,#T_6b42b2ac_6078_11eb_9172_acde48001122row6_col1,#T_6b42b2ac_6078_11eb_9172_acde48001122row6_col2,#T_6b42b2ac_6078_11eb_9172_acde48001122row6_col3,#T_6b42b2ac_6078_11eb_9172_acde48001122row6_col4,#T_6b42b2ac_6078_11eb_9172_acde48001122row7_col0,#T_6b42b2ac_6078_11eb_9172_acde48001122row7_col1,#T_6b42b2ac_6078_11eb_9172_acde48001122row7_col2,#T_6b42b2ac_6078_11eb_9172_acde48001122row7_col3,#T_6b42b2ac_6078_11eb_9172_acde48001122row7_col4,#T_6b42b2ac_6078_11eb_9172_acde48001122row8_col0,#T_6b42b2ac_6078_11eb_9172_acde48001122row8_col1,#T_6b42b2ac_6078_11eb_9172_acde48001122row8_col2,#T_6b42b2ac_6078_11eb_9172_acde48001122row8_col3,#T_6b42b2ac_6078_11eb_9172_acde48001122row8_col4,#T_6b42b2ac_6078_11eb_9172_acde48001122row9_col0,#T_6b42b2ac_6078_11eb_9172_acde48001122row9_col1,#T_6b42b2ac_6078_11eb_9172_acde48001122row9_col2,#T_6b42b2ac_6078_11eb_9172_acde48001122row9_col3,#T_6b42b2ac_6078_11eb_9172_acde48001122row9_col4{\n",
       "            text-align:  left;\n",
       "        }</style><table id=\"T_6b42b2ac_6078_11eb_9172_acde48001122\" ><thead>    <tr>        <th class=\"blank level0\" ></th>        <th class=\"col_heading level0 col0\" >Mean</th>        <th class=\"col_heading level0 col1\" >Median</th>        <th class=\"col_heading level0 col2\" >Variance</th>        <th class=\"col_heading level0 col3\" >Standard Deviation</th>        <th class=\"col_heading level0 col4\" >SEM</th>    </tr>    <tr>        <th class=\"index_name level0\" >Drug Regimen</th>        <th class=\"blank\" ></th>        <th class=\"blank\" ></th>        <th class=\"blank\" ></th>        <th class=\"blank\" ></th>        <th class=\"blank\" ></th>    </tr></thead><tbody>\n",
       "                <tr>\n",
       "                        <th id=\"T_6b42b2ac_6078_11eb_9172_acde48001122level0_row0\" class=\"row_heading level0 row0\" >Capomulin</th>\n",
       "                        <td id=\"T_6b42b2ac_6078_11eb_9172_acde48001122row0_col0\" class=\"data row0 col0\" >40.675741</td>\n",
       "                        <td id=\"T_6b42b2ac_6078_11eb_9172_acde48001122row0_col1\" class=\"data row0 col1\" >41.557809</td>\n",
       "                        <td id=\"T_6b42b2ac_6078_11eb_9172_acde48001122row0_col2\" class=\"data row0 col2\" >24.947764</td>\n",
       "                        <td id=\"T_6b42b2ac_6078_11eb_9172_acde48001122row0_col3\" class=\"data row0 col3\" >4.994774</td>\n",
       "                        <td id=\"T_6b42b2ac_6078_11eb_9172_acde48001122row0_col4\" class=\"data row0 col4\" >0.329346</td>\n",
       "            </tr>\n",
       "            <tr>\n",
       "                        <th id=\"T_6b42b2ac_6078_11eb_9172_acde48001122level0_row1\" class=\"row_heading level0 row1\" >Ceftamin</th>\n",
       "                        <td id=\"T_6b42b2ac_6078_11eb_9172_acde48001122row1_col0\" class=\"data row1 col0\" >52.591172</td>\n",
       "                        <td id=\"T_6b42b2ac_6078_11eb_9172_acde48001122row1_col1\" class=\"data row1 col1\" >51.776157</td>\n",
       "                        <td id=\"T_6b42b2ac_6078_11eb_9172_acde48001122row1_col2\" class=\"data row1 col2\" >39.290177</td>\n",
       "                        <td id=\"T_6b42b2ac_6078_11eb_9172_acde48001122row1_col3\" class=\"data row1 col3\" >6.268188</td>\n",
       "                        <td id=\"T_6b42b2ac_6078_11eb_9172_acde48001122row1_col4\" class=\"data row1 col4\" >0.469821</td>\n",
       "            </tr>\n",
       "            <tr>\n",
       "                        <th id=\"T_6b42b2ac_6078_11eb_9172_acde48001122level0_row2\" class=\"row_heading level0 row2\" >Infubinol</th>\n",
       "                        <td id=\"T_6b42b2ac_6078_11eb_9172_acde48001122row2_col0\" class=\"data row2 col0\" >52.884795</td>\n",
       "                        <td id=\"T_6b42b2ac_6078_11eb_9172_acde48001122row2_col1\" class=\"data row2 col1\" >51.820584</td>\n",
       "                        <td id=\"T_6b42b2ac_6078_11eb_9172_acde48001122row2_col2\" class=\"data row2 col2\" >43.128684</td>\n",
       "                        <td id=\"T_6b42b2ac_6078_11eb_9172_acde48001122row2_col3\" class=\"data row2 col3\" >6.567243</td>\n",
       "                        <td id=\"T_6b42b2ac_6078_11eb_9172_acde48001122row2_col4\" class=\"data row2 col4\" >0.492236</td>\n",
       "            </tr>\n",
       "            <tr>\n",
       "                        <th id=\"T_6b42b2ac_6078_11eb_9172_acde48001122level0_row3\" class=\"row_heading level0 row3\" >Ketapril</th>\n",
       "                        <td id=\"T_6b42b2ac_6078_11eb_9172_acde48001122row3_col0\" class=\"data row3 col0\" >55.235638</td>\n",
       "                        <td id=\"T_6b42b2ac_6078_11eb_9172_acde48001122row3_col1\" class=\"data row3 col1\" >53.698743</td>\n",
       "                        <td id=\"T_6b42b2ac_6078_11eb_9172_acde48001122row3_col2\" class=\"data row3 col2\" >68.553577</td>\n",
       "                        <td id=\"T_6b42b2ac_6078_11eb_9172_acde48001122row3_col3\" class=\"data row3 col3\" >8.279709</td>\n",
       "                        <td id=\"T_6b42b2ac_6078_11eb_9172_acde48001122row3_col4\" class=\"data row3 col4\" >0.603860</td>\n",
       "            </tr>\n",
       "            <tr>\n",
       "                        <th id=\"T_6b42b2ac_6078_11eb_9172_acde48001122level0_row4\" class=\"row_heading level0 row4\" >Naftisol</th>\n",
       "                        <td id=\"T_6b42b2ac_6078_11eb_9172_acde48001122row4_col0\" class=\"data row4 col0\" >54.331565</td>\n",
       "                        <td id=\"T_6b42b2ac_6078_11eb_9172_acde48001122row4_col1\" class=\"data row4 col1\" >52.509285</td>\n",
       "                        <td id=\"T_6b42b2ac_6078_11eb_9172_acde48001122row4_col2\" class=\"data row4 col2\" >66.173479</td>\n",
       "                        <td id=\"T_6b42b2ac_6078_11eb_9172_acde48001122row4_col3\" class=\"data row4 col3\" >8.134708</td>\n",
       "                        <td id=\"T_6b42b2ac_6078_11eb_9172_acde48001122row4_col4\" class=\"data row4 col4\" >0.596466</td>\n",
       "            </tr>\n",
       "            <tr>\n",
       "                        <th id=\"T_6b42b2ac_6078_11eb_9172_acde48001122level0_row5\" class=\"row_heading level0 row5\" >Placebo</th>\n",
       "                        <td id=\"T_6b42b2ac_6078_11eb_9172_acde48001122row5_col0\" class=\"data row5 col0\" >54.033581</td>\n",
       "                        <td id=\"T_6b42b2ac_6078_11eb_9172_acde48001122row5_col1\" class=\"data row5 col1\" >52.288934</td>\n",
       "                        <td id=\"T_6b42b2ac_6078_11eb_9172_acde48001122row5_col2\" class=\"data row5 col2\" >61.168083</td>\n",
       "                        <td id=\"T_6b42b2ac_6078_11eb_9172_acde48001122row5_col3\" class=\"data row5 col3\" >7.821003</td>\n",
       "                        <td id=\"T_6b42b2ac_6078_11eb_9172_acde48001122row5_col4\" class=\"data row5 col4\" >0.581331</td>\n",
       "            </tr>\n",
       "            <tr>\n",
       "                        <th id=\"T_6b42b2ac_6078_11eb_9172_acde48001122level0_row6\" class=\"row_heading level0 row6\" >Propriva</th>\n",
       "                        <td id=\"T_6b42b2ac_6078_11eb_9172_acde48001122row6_col0\" class=\"data row6 col0\" >52.320930</td>\n",
       "                        <td id=\"T_6b42b2ac_6078_11eb_9172_acde48001122row6_col1\" class=\"data row6 col1\" >50.446266</td>\n",
       "                        <td id=\"T_6b42b2ac_6078_11eb_9172_acde48001122row6_col2\" class=\"data row6 col2\" >43.852013</td>\n",
       "                        <td id=\"T_6b42b2ac_6078_11eb_9172_acde48001122row6_col3\" class=\"data row6 col3\" >6.622085</td>\n",
       "                        <td id=\"T_6b42b2ac_6078_11eb_9172_acde48001122row6_col4\" class=\"data row6 col4\" >0.544332</td>\n",
       "            </tr>\n",
       "            <tr>\n",
       "                        <th id=\"T_6b42b2ac_6078_11eb_9172_acde48001122level0_row7\" class=\"row_heading level0 row7\" >Ramicane</th>\n",
       "                        <td id=\"T_6b42b2ac_6078_11eb_9172_acde48001122row7_col0\" class=\"data row7 col0\" >40.216745</td>\n",
       "                        <td id=\"T_6b42b2ac_6078_11eb_9172_acde48001122row7_col1\" class=\"data row7 col1\" >40.673236</td>\n",
       "                        <td id=\"T_6b42b2ac_6078_11eb_9172_acde48001122row7_col2\" class=\"data row7 col2\" >23.486704</td>\n",
       "                        <td id=\"T_6b42b2ac_6078_11eb_9172_acde48001122row7_col3\" class=\"data row7 col3\" >4.846308</td>\n",
       "                        <td id=\"T_6b42b2ac_6078_11eb_9172_acde48001122row7_col4\" class=\"data row7 col4\" >0.320955</td>\n",
       "            </tr>\n",
       "            <tr>\n",
       "                        <th id=\"T_6b42b2ac_6078_11eb_9172_acde48001122level0_row8\" class=\"row_heading level0 row8\" >Stelasyn</th>\n",
       "                        <td id=\"T_6b42b2ac_6078_11eb_9172_acde48001122row8_col0\" class=\"data row8 col0\" >54.233149</td>\n",
       "                        <td id=\"T_6b42b2ac_6078_11eb_9172_acde48001122row8_col1\" class=\"data row8 col1\" >52.431737</td>\n",
       "                        <td id=\"T_6b42b2ac_6078_11eb_9172_acde48001122row8_col2\" class=\"data row8 col2\" >59.450562</td>\n",
       "                        <td id=\"T_6b42b2ac_6078_11eb_9172_acde48001122row8_col3\" class=\"data row8 col3\" >7.710419</td>\n",
       "                        <td id=\"T_6b42b2ac_6078_11eb_9172_acde48001122row8_col4\" class=\"data row8 col4\" >0.573111</td>\n",
       "            </tr>\n",
       "            <tr>\n",
       "                        <th id=\"T_6b42b2ac_6078_11eb_9172_acde48001122level0_row9\" class=\"row_heading level0 row9\" >Zoniferol</th>\n",
       "                        <td id=\"T_6b42b2ac_6078_11eb_9172_acde48001122row9_col0\" class=\"data row9 col0\" >53.236507</td>\n",
       "                        <td id=\"T_6b42b2ac_6078_11eb_9172_acde48001122row9_col1\" class=\"data row9 col1\" >51.818479</td>\n",
       "                        <td id=\"T_6b42b2ac_6078_11eb_9172_acde48001122row9_col2\" class=\"data row9 col2\" >48.533355</td>\n",
       "                        <td id=\"T_6b42b2ac_6078_11eb_9172_acde48001122row9_col3\" class=\"data row9 col3\" >6.966589</td>\n",
       "                        <td id=\"T_6b42b2ac_6078_11eb_9172_acde48001122row9_col4\" class=\"data row9 col4\" >0.516398</td>\n",
       "            </tr>\n",
       "    </tbody></table>"
      ],
      "text/plain": [
       "<pandas.io.formats.style.Styler at 0x7fd78bf49160>"
      ]
     },
     "execution_count": 68,
     "metadata": {},
     "output_type": "execute_result"
    }
   ],
   "source": [
    "#Calculalte and place mean, median, variance, standard deviation, and SEM of the tumor volume for each regimen\n",
    "study_summary = study.groupby('Drug Regimen').agg(Mean=('Tumor Volume (mm3)','mean'),\n",
    "                                                  Median=('Tumor Volume (mm3)','median'),\n",
    "                                                  Variance=('Tumor Volume (mm3)','var'),\n",
    "                                                  StandardDeviation=('Tumor Volume (mm3)','std'),\n",
    "                                                  SEM=('Tumor Volume (mm3)','sem'))\n",
    "\n",
    "#rename column and update format of summary statistics table\n",
    "study_summary.rename(columns={'StandardDeviation':'Standard Deviation'}).style.set_properties(**{'text-align':'left'})"
   ]
  },
  {
   "cell_type": "code",
   "execution_count": null,
   "metadata": {},
   "outputs": [],
   "source": []
  },
  {
   "cell_type": "markdown",
   "metadata": {},
   "source": [
    "## Bar Plots"
   ]
  },
  {
   "cell_type": "code",
   "execution_count": null,
   "metadata": {},
   "outputs": [],
   "source": [
    "\n",
    "\n",
    "# Generate a bar plot showing the number of mice per time point for each treatment throughout the course of the study using pandas.\n"
   ]
  },
  {
   "cell_type": "code",
   "execution_count": null,
   "metadata": {},
   "outputs": [],
   "source": [
    "\n",
    "# Generate a bar plot showing the number of mice per time point for each treatment throughout the course of the study using pyplot.\n"
   ]
  },
  {
   "cell_type": "code",
   "execution_count": null,
   "metadata": {},
   "outputs": [],
   "source": []
  },
  {
   "cell_type": "markdown",
   "metadata": {},
   "source": [
    "## Pie Plots"
   ]
  },
  {
   "cell_type": "code",
   "execution_count": null,
   "metadata": {},
   "outputs": [],
   "source": [
    "\n",
    "\n",
    "# Generate a pie plot showing the distribution of female versus male mice using pandas\n"
   ]
  },
  {
   "cell_type": "code",
   "execution_count": null,
   "metadata": {},
   "outputs": [],
   "source": [
    "\n",
    "# Generate a pie plot showing the distribution of female versus male mice using pyplot\n",
    "\n"
   ]
  },
  {
   "cell_type": "code",
   "execution_count": null,
   "metadata": {},
   "outputs": [],
   "source": []
  },
  {
   "cell_type": "markdown",
   "metadata": {},
   "source": [
    "## Quartiles, Outliers and Boxplots"
   ]
  },
  {
   "cell_type": "code",
   "execution_count": null,
   "metadata": {},
   "outputs": [],
   "source": [
    "\n",
    "\n",
    "# Calculate the final tumor volume of each mouse across four of the most promising treatment regimens. Calculate the IQR and quantitatively determine if there are any potential outliers. \n"
   ]
  },
  {
   "cell_type": "code",
   "execution_count": null,
   "metadata": {},
   "outputs": [],
   "source": [
    "\n",
    "\n",
    "# Generate a box plot of the final tumor volume of each mouse across four regimens of interest"
   ]
  },
  {
   "cell_type": "code",
   "execution_count": null,
   "metadata": {},
   "outputs": [],
   "source": []
  },
  {
   "cell_type": "markdown",
   "metadata": {},
   "source": [
    "## Line and Scatter Plots"
   ]
  },
  {
   "cell_type": "code",
   "execution_count": null,
   "metadata": {},
   "outputs": [],
   "source": [
    "\n",
    "\n",
    "# Generate a line plot of time point versus tumor volume for a mouse treated with Capomulin\n"
   ]
  },
  {
   "cell_type": "code",
   "execution_count": null,
   "metadata": {},
   "outputs": [],
   "source": [
    "\n",
    "# Generate a scatter plot of mouse weight versus average tumor volume for the Capomulin regimen\n",
    "\n"
   ]
  },
  {
   "cell_type": "code",
   "execution_count": null,
   "metadata": {},
   "outputs": [],
   "source": []
  },
  {
   "cell_type": "markdown",
   "metadata": {},
   "source": [
    "## Correlation and Regression"
   ]
  },
  {
   "cell_type": "code",
   "execution_count": null,
   "metadata": {},
   "outputs": [],
   "source": [
    "\n",
    "# Calculate the correlation coefficient and linear regression model \n",
    "# for mouse weight and average tumor volume for the Capomulin regimen\n",
    "\n"
   ]
  },
  {
   "cell_type": "code",
   "execution_count": null,
   "metadata": {},
   "outputs": [],
   "source": []
  }
 ],
 "metadata": {
  "kernelspec": {
   "display_name": "Python 3",
   "language": "python",
   "name": "python3"
  },
  "language_info": {
   "codemirror_mode": {
    "name": "ipython",
    "version": 3
   },
   "file_extension": ".py",
   "mimetype": "text/x-python",
   "name": "python",
   "nbconvert_exporter": "python",
   "pygments_lexer": "ipython3",
   "version": "3.8.5"
  }
 },
 "nbformat": 4,
 "nbformat_minor": 4
}
